{
 "cells": [
  {
   "cell_type": "markdown",
   "metadata": {},
   "source": [
    "First, an English plan for this new function to define called longer_than_five:\n",
    "\n",
    "You’ll want to pass in a list of strings (representing people’s first names) to the function.\n",
    "\n",
    "You’ll want to iterate over all the items in the list, each of the strings.\n",
    "\n",
    "As soon as you get to one name that is longer than five letters, you know the function should return True – yes, there is at least one name longer than five letters!\n",
    "\n",
    "And if you go through the whole list and there was no name longer than five letters, then the function should return False."
   ]
  },
  {
   "cell_type": "code",
   "execution_count": 5,
   "metadata": {},
   "outputs": [
    {
     "data": {
      "text/plain": [
       "True"
      ]
     },
     "execution_count": 5,
     "metadata": {},
     "output_type": "execute_result"
    }
   ],
   "source": [
    "def longer_than_five(lst_wds):\n",
    "    for i in lst_wds:\n",
    "        if len(i)>5:\n",
    "            return True# – yes, there is at least one name longer than five letters!\n",
    "        else:\n",
    "            return False\n",
    "        \n",
    "names=['rajesh','rajeani','rajalekshmi','staoendh','nsdcdkck']\n",
    "longer_than_five(names)\n",
    "\n"
   ]
  },
  {
   "cell_type": "code",
   "execution_count": null,
   "metadata": {},
   "outputs": [],
   "source": []
  }
 ],
 "metadata": {
  "kernelspec": {
   "display_name": "Python 3",
   "language": "python",
   "name": "python3"
  },
  "language_info": {
   "codemirror_mode": {
    "name": "ipython",
    "version": 3
   },
   "file_extension": ".py",
   "mimetype": "text/x-python",
   "name": "python",
   "nbconvert_exporter": "python",
   "pygments_lexer": "ipython3",
   "version": "3.7.3"
  }
 },
 "nbformat": 4,
 "nbformat_minor": 2
}
