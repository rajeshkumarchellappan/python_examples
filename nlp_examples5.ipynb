{
 "cells": [
  {
   "cell_type": "code",
   "execution_count": 2,
   "metadata": {},
   "outputs": [
    {
     "name": "stderr",
     "output_type": "stream",
     "text": [
      "[nltk_data] Downloading package punkt to\n",
      "[nltk_data]     C:\\Users\\rajeshkc\\AppData\\Roaming\\nltk_data...\n",
      "[nltk_data]   Package punkt is already up-to-date!\n",
      "[nltk_data] Downloading package wordnet to\n",
      "[nltk_data]     C:\\Users\\rajeshkc\\AppData\\Roaming\\nltk_data...\n",
      "[nltk_data]   Package wordnet is already up-to-date!\n",
      "[nltk_data] Downloading package averaged_perceptron_tagger to\n",
      "[nltk_data]     C:\\Users\\rajeshkc\\AppData\\Roaming\\nltk_data...\n",
      "[nltk_data]   Package averaged_perceptron_tagger is already up-to-\n",
      "[nltk_data]       date!\n"
     ]
    },
    {
     "data": {
      "text/plain": [
       "0.554265873015873"
      ]
     },
     "execution_count": 2,
     "metadata": {},
     "output_type": "execute_result"
    }
   ],
   "source": [
    "import numpy as np\n",
    "import nltk\n",
    "from nltk.corpus import wordnet as wn\n",
    "import pandas as pd\n",
    "from nltk.stem import WordNetLemmatizer\n",
    "nltk.download('punkt')\n",
    "nltk.download('wordnet')\n",
    "nltk.download('averaged_perceptron_tagger')\n",
    "\n",
    "def convert_tag(tag):\n",
    "    \"\"\"Convert the tag given by nltk.pos_tag to the tag used by wordnet.synsets\"\"\"\n",
    "    \n",
    "    tag_dict = {'N': 'n', 'J': 'a', 'R': 'r', 'V': 'v'}\n",
    "    try:\n",
    "        return tag_dict[tag[0]]\n",
    "    except KeyError:\n",
    "        return None\n",
    "\n",
    "doc='Fish are nvqjp friends.'\n",
    "def doc_to_synsets(doc):\n",
    "    \n",
    "    token= nltk.word_tokenize(doc)\n",
    "    #tokens1 = [WordNetLemmatizer().lemmatize(t) for t in token]\n",
    "    postag=nltk.pos_tag(token)\n",
    "    test1=[]    \n",
    "    for i in postag:\n",
    "        test=wn.synsets(i[0],convert_tag(i[1]))\n",
    "        if len(test)>1:\n",
    "            test1.append(test[0])         \n",
    "                        \n",
    "    return test1  #word_converted_tag[1]\n",
    "doc_to_synsets(doc)\n",
    "s1 = doc_to_synsets('I like cats')\n",
    "s2 = doc_to_synsets('I like dogs')\n",
    "    #similarity_score(s1, s2)\n",
    "def similarity_score(s1, s2):\n",
    "    mylist= []\n",
    "    for a in s1:\n",
    "        mylist1= []\n",
    "        for b in s2:\n",
    "            similarvalues = wn.path_similarity(a, b)\n",
    "            \n",
    "            if similarvalues!=None:\n",
    "                mylist1.append(similarvalues)\n",
    "        if len(mylist1)>0:\n",
    "            mylist.append(max(mylist1))\n",
    "    return sum(mylist)/len(mylist) \n",
    "similarity_score(s1, s2)\n",
    "doc1 = 'This is a function to test document_path_similarity.'\n",
    "doc2 = 'Use this function to see if your code in doc_to_synsets \\and similarity_score is correct!'\n",
    "\n",
    "def document_path_similarity(doc1, doc2):\n",
    "    \"\"\"Finds the symmetrical similarity between doc1 and doc2\"\"\"\n",
    "\n",
    "    synsets1 = doc_to_synsets(doc1)\n",
    "    synsets2 = doc_to_synsets(doc2)\n",
    "\n",
    "    return (similarity_score(synsets1, synsets2) + similarity_score(synsets2, synsets1)) / 2\n",
    "document_path_similarity(doc1, doc2)\n"
   ]
  },
  {
   "cell_type": "code",
   "execution_count": 3,
   "metadata": {},
   "outputs": [
    {
     "name": "stdout",
     "output_type": "stream",
     "text": [
      "0.10588235294117647\n"
     ]
    }
   ],
   "source": [
    "s11 = doc_to_synsets('I like cats')\n",
    "s22 = doc_to_synsets('I like dogs')\n",
    "    #similarity_score(s1, s2)\n",
    "    \n",
    "#mylist = []\n",
    "\n",
    "for w1 in s11:\n",
    "    #mylist = []\n",
    "    mylist = []\n",
    "    mylist1 = []\n",
    "    #value = [wn.path_similarity(w1, w2) for w2 in s22 i]\n",
    "for w2 in s22:\n",
    "    similarvalues = wn.path_similarity(w1, w2)\n",
    "    if type(similarvalues)==float:\n",
    "        mylist1.append(similarvalues)\n",
    "    if mylist1:\n",
    "        mylist.append(max(mylist1))\n",
    "    #for i in len(value):\n",
    "     #   if value[i] != None:\n",
    "      #      my_list1.append(value[i])\n",
    "       # else:\n",
    "        #    value\n",
    "    #y_list= max(value)/len(value)\n",
    "print (sum(mylist)/len(mylist))"
   ]
  },
  {
   "cell_type": "code",
   "execution_count": 4,
   "metadata": {},
   "outputs": [
    {
     "name": "stdout",
     "output_type": "stream",
     "text": [
      "0.10588235294117647\n"
     ]
    },
    {
     "data": {
      "text/plain": [
       "[Synset('iodine.n.01'), Synset('wish.v.02'), Synset('cat.n.01')]"
      ]
     },
     "execution_count": 4,
     "metadata": {},
     "output_type": "execute_result"
    }
   ],
   "source": [
    "s11 = doc_to_synsets('I like cats')\n",
    "s22 = doc_to_synsets('I like dogs')\n",
    "sim_s = []\n",
    "for syn1 in s11 :\n",
    "    sim_v = []\n",
    "for syn2 in s22 :\n",
    "        val = wn.path_similarity(syn1,syn2) \n",
    "        if isinstance(val,float) :\n",
    "            sim_v.append(val)\n",
    "        if (sim_v) :\n",
    "            sim_s.append(max(sim_v))\n",
    "print(sum(sim_s)/len(sim_s))\n",
    "s11\n"
   ]
  },
  {
   "cell_type": "code",
   "execution_count": null,
   "metadata": {},
   "outputs": [],
   "source": []
  }
 ],
 "metadata": {
  "kernelspec": {
   "display_name": "Python 3",
   "language": "python",
   "name": "python3"
  },
  "language_info": {
   "codemirror_mode": {
    "name": "ipython",
    "version": 3
   },
   "file_extension": ".py",
   "mimetype": "text/x-python",
   "name": "python",
   "nbconvert_exporter": "python",
   "pygments_lexer": "ipython3",
   "version": "3.7.3"
  }
 },
 "nbformat": 4,
 "nbformat_minor": 2
}
