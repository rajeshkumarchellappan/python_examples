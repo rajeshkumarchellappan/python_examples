{
 "cells": [
  {
   "cell_type": "code",
   "execution_count": 36,
   "metadata": {},
   "outputs": [
    {
     "data": {
      "text/plain": [
       "20"
      ]
     },
     "execution_count": 36,
     "metadata": {},
     "output_type": "execute_result"
    }
   ],
   "source": [
    "#num_retweets=[]\n",
    "#num_of_retweets=['3', '8', '0', '2', '1', '0', '5', '9', '0', '0', '9', '8', '2', '0', '0', '4', '0', '2', '2', '2']\n",
    "##for i in num_of_retweets:\n",
    "  #  num_retweets.append(int(i))\n",
    "#len(num_retweets)\n",
    "num_retweets=[3,1,1,3,6,9,19,0,0,82,0,0,47,2,0,0,4,19,0,0]\n",
    "len(num_retweets)\n",
    "    "
   ]
  },
  {
   "cell_type": "code",
   "execution_count": 37,
   "metadata": {},
   "outputs": [
    {
     "data": {
      "text/plain": [
       "20"
      ]
     },
     "execution_count": 37,
     "metadata": {},
     "output_type": "execute_result"
    }
   ],
   "source": [
    "net_score=[0, 0, 0, 1, 2, 2, 2, -3, -2, 2, -1, 1, 2, 1, 1, 1, 3, 1, 1, 1]\n",
    "len(net_score)\n"
   ]
  },
  {
   "cell_type": "code",
   "execution_count": 44,
   "metadata": {},
   "outputs": [
    {
     "data": {
      "image/png": "[encoded data removed]",
      "text/plain": [
       "<Figure size 432x288 with 1 Axes>"
      ]
     },
     "metadata": {
      "needs_background": "light"
     },
     "output_type": "display_data"
    }
   ],
   "source": [
    "import matplotlib.pyplot as plt\n",
    "plt.scatter(net_score,num_retweets,linewidths = 2,marker =\"o\",edgecolor =\"green\",s = 50) \n",
    "\n",
    "plt.title('Number of retweets Vs Net Score')\n",
    "plt.xlabel(\"Net Score\") \n",
    "plt.ylabel(\" Number of Retweets\") \n",
    "plt.savefig('assignment5.jpg')\n",
    "plt.show() \n"
   ]
  },
  {
   "cell_type": "code",
   "execution_count": null,
   "metadata": {},
   "outputs": [],
   "source": []
  }
 ],
 "metadata": {
  "kernelspec": {
   "display_name": "Python 3",
   "language": "python",
   "name": "python3"
  },
  "language_info": {
   "codemirror_mode": {
    "name": "ipython",
    "version": 3
   },
   "file_extension": ".py",
   "mimetype": "text/x-python",
   "name": "python",
   "nbconvert_exporter": "python",
   "pygments_lexer": "ipython3",
   "version": "3.7.3"
  }
 },
 "nbformat": 4,
 "nbformat_minor": 2
}
