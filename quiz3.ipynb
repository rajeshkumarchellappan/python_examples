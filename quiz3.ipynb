{
 "cells": [
  {
   "cell_type": "code",
   "execution_count": null,
   "metadata": {},
   "outputs": [],
   "source": [
    "y_decision=m.decision_function(X_test)\n",
    "precision, recall,thresholds = precision_recall_curve(y_test, y_decision)\n",
    "plt.plot(precision, recall, label = 'Precision-Recall Curve')\n",
    "plt.show()\n",
    "print(m)"
   ]
  },
  {
   "cell_type": "code",
   "execution_count": null,
   "metadata": {},
   "outputs": [],
   "source": [
    "#Question 8\n",
    "y_predict=m.predict(X_test)\n",
    "#precision_score(y_test,y_predict,average='macro')\n",
    "print('Micro-averaged precision = {:.3f}'.format(precision_score(y_test, y_predict, average = 'micro')))\n",
    "\n",
    "\n"
   ]
  },
  {
   "cell_type": "code",
   "execution_count": null,
   "metadata": {},
   "outputs": [],
   "source": [
    "y_predict=m.predict(X_test)\n",
    "#precision_score(y_test,y_predict,average='macro')\n",
    "print('Micro-averaged precision = {:.3f}'.format(precision_score(y_test, y_predict, average = 'micro')))\n",
    "\n",
    "\n"
   ]
  },
  {
   "cell_type": "code",
   "execution_count": null,
   "metadata": {},
   "outputs": [],
   "source": [
    "from sklearn.metrics import precision_score\n",
    "from sklearn.metrics import recall_score\n",
    "grid_values = {'gamma': [10],'C':[1]}\n",
    "grid_m_acc = GridSearchCV(m, param_grid =grid_values,scoring='recall' )\n",
    "#scores = ['precision', 'recall']\n",
    "grid_m_acc.fit(X_train,y_train)\n",
    "y_predict=grid_m_acc.predict(X_test)\n",
    "#print(grid_m_acc.best_score_)\n",
    "recall=recall_score(y_test,y_predict)\n",
    "#print(recall_score(y_test,y_predict))\n",
    "#recall_score=(y_test,y_predict)\n",
    "#precision, recall,thresholds = precision_recall_curve(y_test, y_predict)\n",
    "\n",
    "grid_m_acc1 = GridSearchCV(m, param_grid =grid_values,scoring='precision' )\n",
    "#scores = ['precision', 'recall']\n",
    "grid_m_acc1.fit(X_train,y_train)\n",
    "y_predict1=grid_m_acc.predict(X_test)\n",
    "precision=precision_score(y_test,y_predict1)\n",
    "print(recall-precision)\n",
    "#print(grid_m_acc1.best_score_)\n",
    "\n"
   ]
  }
 ],
 "metadata": {
  "kernelspec": {
   "display_name": "Python 3",
   "language": "python",
   "name": "python3"
  },
  "language_info": {
   "codemirror_mode": {
    "name": "ipython",
    "version": 3
   },
   "file_extension": ".py",
   "mimetype": "text/x-python",
   "name": "python",
   "nbconvert_exporter": "python",
   "pygments_lexer": "ipython3",
   "version": "3.7.3"
  }
 },
 "nbformat": 4,
 "nbformat_minor": 2
}
