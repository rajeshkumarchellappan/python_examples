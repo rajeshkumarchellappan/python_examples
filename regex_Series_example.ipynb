{
 "cells": [
  {
   "cell_type": "code",
   "execution_count": 2,
   "metadata": {},
   "outputs": [
    {
     "name": "stdout",
     "output_type": "stream",
     "text": [
      "0                                7/1/99\n",
      "1    7/1/99 means 7/1/1999 not 7/1/2099\n",
      "dtype: object\n",
      "\n",
      "        month day  year\n",
      "  match                \n",
      "0 0         7   1    99\n",
      "1 0         7   1    99\n",
      "  1         7   1  1999\n",
      "  2         7   1  2099\n",
      "\n",
      "        month day  year\n",
      "  match                \n",
      "1 0         7   1  1999\n",
      "  1         7   1  2099\n"
     ]
    }
   ],
   "source": [
    "import pandas as pd\n",
    "s_test = pd.Series(data=['7/1/99', '7/1/99 means 7/1/1999 not 7/1/2099'])\n",
    "print(s_test)\n",
    "print()\n",
    "print(s_test.str.extractall(r'(?P<month>\\d?\\d)[/](?P<day>\\d?\\d)[/](?P<year>\\d{2,4})'))\n",
    "print()\n",
    "print(s_test.str.extractall(r'(?P<month>\\d?\\d)[/](?P<day>\\d?\\d)[/](?P<year>\\d{4})'))"
   ]
  },
  {
   "cell_type": "code",
   "execution_count": null,
   "metadata": {},
   "outputs": [],
   "source": []
  }
 ],
 "metadata": {
  "kernelspec": {
   "display_name": "Python 3",
   "language": "python",
   "name": "python3"
  },
  "language_info": {
   "codemirror_mode": {
    "name": "ipython",
    "version": 3
   },
   "file_extension": ".py",
   "mimetype": "text/x-python",
   "name": "python",
   "nbconvert_exporter": "python",
   "pygments_lexer": "ipython3",
   "version": "3.7.3"
  }
 },
 "nbformat": 4,
 "nbformat_minor": 2
}
